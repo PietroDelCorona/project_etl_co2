{
 "cells": [
  {
   "cell_type": "markdown",
   "metadata": {},
   "source": [
    "<h2>Projeto de ETL Avaliação das Emissões de CO₂ e Seus Fatores Associados</h2>"
   ]
  },
  {
   "cell_type": "markdown",
   "metadata": {},
   "source": [
    "<h4>Carregando pacotes</h4>"
   ]
  },
  {
   "cell_type": "code",
   "execution_count": 1,
   "metadata": {},
   "outputs": [],
   "source": [
    "import pandas as pd\n",
    "import csv\n",
    "import requests\n",
    "import os\n",
    "from io import StringIO"
   ]
  },
  {
   "cell_type": "markdown",
   "metadata": {},
   "source": [
    "<h4>Carregar base dados CO2 Emissions</h4>"
   ]
  },
  {
   "cell_type": "code",
   "execution_count": null,
   "metadata": {},
   "outputs": [
    {
     "name": "stdout",
     "output_type": "stream",
     "text": [
      "O arquivo já existe em: data\\co2_emissions_per_capita.csv\n"
     ]
    }
   ],
   "source": [
    "\n",
    "URL_BASE = \"https://ourworldindata.org/grapher/co2-emissions-per-capita.csv?useColumnShortNames=true\"\n",
    "\n",
    "file_path = os.path.join(\"data\", \"co2_emissions_per_capita.csv\")\n",
    "\n",
    "if os.path.exists(file_path):\n",
    "    print(f\"O arquivo já existe em: {file_path}\")\n",
    "else:\n",
    "    response = requests.get(URL_BASE)\n",
    "    \n",
    "    if response.status_code == 200:\n",
    "        os.makedirs(\"data\", exist_ok=True)\n",
    "        \n",
    "        data = pd.read_csv(StringIO(response.text))\n",
    "        data.to_csv(file_path, index=False) \n",
    "        \n",
    "        print(f\"Arquivo salvo em: {file_path}\")\n",
    "        print(data.info())  \n",
    "    else:\n",
    "        print(f\"Erro na requisição: {response.status_code}\")"
   ]
  },
  {
   "cell_type": "markdown",
   "metadata": {},
   "source": [
    "<h4>Limpar base dados CO2 Emissions</h4>"
   ]
  },
  {
   "cell_type": "code",
   "execution_count": 7,
   "metadata": {},
   "outputs": [
    {
     "name": "stdout",
     "output_type": "stream",
     "text": [
      "Arquivo limpo salvo em: ./data/data_cleaned/cleaned_co2_emissions_per_capita.csv\n"
     ]
    }
   ],
   "source": [
    "input_file_path = \"./data/co2_emissions_per_capita.csv\"\n",
    "output_file_path = \"./data/data_cleaned/cleaned_co2_emissions_per_capita.csv\"\n",
    "\n",
    "# Verificar se o arquivo de saída já existe\n",
    "if os.path.exists(output_file_path):\n",
    "    print(f\"O arquivo '{output_file_path}' já existe. Nenhuma ação será realizada.\")\n",
    "else:\n",
    "    # Carregar o arquivo de entrada\n",
    "    co2_emissions_per_capita = pd.read_csv(input_file_path, sep=\",\")\n",
    "    \n",
    "    # Remover a coluna 'Code'\n",
    "    co2_emissions_per_capita = co2_emissions_per_capita.drop(columns=['Code'])\n",
    "    \n",
    "    # Salvar o arquivo limpo\n",
    "    os.makedirs(os.path.dirname(output_file_path), exist_ok=True)  \n",
    "    co2_emissions_per_capita.to_csv(output_file_path, index=False)\n",
    "    print(f\"Arquivo limpo salvo em: {output_file_path}\")"
   ]
  },
  {
   "cell_type": "markdown",
   "metadata": {},
   "source": [
    "<h4>Carregar base dados CO2 Land Use and Total Emissions</h4>"
   ]
  },
  {
   "cell_type": "code",
   "execution_count": 10,
   "metadata": {},
   "outputs": [
    {
     "name": "stdout",
     "output_type": "stream",
     "text": [
      "Arquivo salvo em: data\\co2_land_use_total_emissions.csv\n",
      "<class 'pandas.core.frame.DataFrame'>\n",
      "RangeIndex: 42776 entries, 0 to 42775\n",
      "Data columns (total 6 columns):\n",
      " #   Column                                     Non-Null Count  Dtype  \n",
      "---  ------                                     --------------  -----  \n",
      " 0   Entity                                     42776 non-null  object \n",
      " 1   Code                                       37033 non-null  object \n",
      " 2   Year                                       42776 non-null  int64  \n",
      " 3   emissions_total_including_land_use_change  23585 non-null  float64\n",
      " 4   emissions_from_land_use_change             37236 non-null  float64\n",
      " 5   emissions_total                            29137 non-null  float64\n",
      "dtypes: float64(3), int64(1), object(2)\n",
      "memory usage: 2.0+ MB\n",
      "None\n"
     ]
    }
   ],
   "source": [
    "URL_BASE = \"https://ourworldindata.org/grapher/co2-fossil-plus-land-use.csv?v=1&csvType=full&useColumnShortNames=true\"\n",
    "\n",
    "file_path = os.path.join(\"data\", \"co2_land_use_total_emissions.csv\")\n",
    "\n",
    "if os.path.exists(file_path):\n",
    "    print(f\"O arquivo já existe em: {file_path}\")\n",
    "else:\n",
    "    response = requests.get(URL_BASE)\n",
    "    \n",
    "    if response.status_code == 200:\n",
    "        os.makedirs(\"data\", exist_ok=True)\n",
    "        \n",
    "        data = pd.read_csv(StringIO(response.text))\n",
    "        data.to_csv(file_path, index=False) \n",
    "        \n",
    "        print(f\"Arquivo salvo em: {file_path}\")\n",
    "        print(data.info())  \n",
    "    else:\n",
    "        print(f\"Erro na requisição: {response.status_code}\")"
   ]
  },
  {
   "cell_type": "markdown",
   "metadata": {},
   "source": [
    "<h4>Limpar base dados CO2 Land Use and Total Emissions</h4>"
   ]
  },
  {
   "cell_type": "code",
   "execution_count": 12,
   "metadata": {},
   "outputs": [
    {
     "name": "stdout",
     "output_type": "stream",
     "text": [
      "Arquivo limpo salvo em: ./data/data_cleaned/cleaned_co2_land_use_total_emissions.csv\n"
     ]
    }
   ],
   "source": [
    "input_file_path = \"./data/co2_land_use_total_emissions.csv\"\n",
    "output_file_path = \"./data/data_cleaned/cleaned_co2_land_use_total_emissions.csv\"\n",
    "\n",
    "# Verificar se o arquivo de saída já existe\n",
    "if os.path.exists(output_file_path):\n",
    "    print(f\"O arquivo '{output_file_path}' já existe. Nenhuma ação será realizada.\")\n",
    "else:\n",
    "    # Carregar o arquivo de entrada\n",
    "    co2_land_use = pd.read_csv(input_file_path, sep=\",\")\n",
    "    \n",
    "    # Remover a coluna 'Code'\n",
    "    co2_land_use  = co2_land_use.drop(columns=['Code'])\n",
    "\n",
    "    # Removendo valores nulos\n",
    "    co2_land_use = co2_land_use.dropna(subset=['emissions_total_including_land_use_change', 'emissions_from_land_use_change', 'emissions_total'])\n",
    "    \n",
    "    # Salvar o arquivo limpo\n",
    "    os.makedirs(os.path.dirname(output_file_path), exist_ok=True)  \n",
    "    co2_land_use.to_csv(output_file_path, index=False)\n",
    "    print(f\"Arquivo limpo salvo em: {output_file_path}\")"
   ]
  },
  {
   "cell_type": "markdown",
   "metadata": {},
   "source": [
    "<h4>Carregar base dados Per capita Energy Stacked</h4>"
   ]
  },
  {
   "cell_type": "code",
   "execution_count": 4,
   "metadata": {},
   "outputs": [
    {
     "name": "stdout",
     "output_type": "stream",
     "text": [
      "Arquivo salvo em: data\\energy_mix_sources.csv\n",
      "<class 'pandas.core.frame.DataFrame'>\n",
      "RangeIndex: 6315 entries, 0 to 6314\n",
      "Data columns (total 11 columns):\n",
      " #   Column                                        Non-Null Count  Dtype  \n",
      "---  ------                                        --------------  -----  \n",
      " 0   Entity                                        6315 non-null   object \n",
      " 1   Code                                          5669 non-null   object \n",
      " 2   Year                                          6315 non-null   int64  \n",
      " 3   coal_per_capita__kwh                          4754 non-null   float64\n",
      " 4   oil_per_capita__kwh                           5049 non-null   float64\n",
      " 5   gas_per_capita__kwh                           4555 non-null   float64\n",
      " 6   nuclear_per_capita__kwh__equivalent           6315 non-null   float64\n",
      " 7   hydro_per_capita__kwh__equivalent             4832 non-null   float64\n",
      " 8   wind_per_capita__kwh__equivalent              4155 non-null   float64\n",
      " 9   solar_per_capita__kwh__equivalent             4100 non-null   float64\n",
      " 10  other_renewables_per_capita__kwh__equivalent  4383 non-null   float64\n",
      "dtypes: float64(8), int64(1), object(2)\n",
      "memory usage: 542.8+ KB\n",
      "None\n"
     ]
    }
   ],
   "source": [
    "URL_BASE = \"https://ourworldindata.org/grapher/per-capita-energy-stacked.csv?v=1&csvType=full&useColumnShortNames=true\"\n",
    "\n",
    "file_path = os.path.join(\"data\", \"energy_mix_sources.csv\")\n",
    "\n",
    "if os.path.exists(file_path):\n",
    "    print(f\"O arquivo já existe em: {file_path}\")\n",
    "else:\n",
    "    response = requests.get(URL_BASE)\n",
    "    \n",
    "    if response.status_code == 200:\n",
    "        os.makedirs(\"data\", exist_ok=True)\n",
    "        \n",
    "        data = pd.read_csv(StringIO(response.text))\n",
    "        data.to_csv(file_path, index=False) \n",
    "        \n",
    "        print(f\"Arquivo salvo em: {file_path}\")\n",
    "        print(data.info())  \n",
    "    else:\n",
    "        print(f\"Erro na requisição: {response.status_code}\")"
   ]
  },
  {
   "cell_type": "markdown",
   "metadata": {},
   "source": [
    "<h4>Limpar base dados Per capita Energy Stacked</h4>"
   ]
  },
  {
   "cell_type": "code",
   "execution_count": 14,
   "metadata": {},
   "outputs": [
    {
     "name": "stdout",
     "output_type": "stream",
     "text": [
      "Arquivo limpo salvo em: ./data/data_cleaned/cleaned_energy_mix_sources.csv\n"
     ]
    }
   ],
   "source": [
    "input_file_path = \"./data/energy_mix_sources.csv\"\n",
    "output_file_path = \"./data/data_cleaned/cleaned_energy_mix_sources.csv\"\n",
    "\n",
    "# Verificar se o arquivo de saída já existe\n",
    "if os.path.exists(output_file_path):\n",
    "    print(f\"O arquivo '{output_file_path}' já existe. Nenhuma ação será realizada.\")\n",
    "else:\n",
    "    # Carregar o arquivo de entrada\n",
    "    energy_mix_sources = pd.read_csv(input_file_path, sep=\",\")\n",
    "    \n",
    "    # Remover a coluna 'Code'\n",
    "    energy_mix_sources = energy_mix_sources.drop(columns=['Code'])\n",
    "\n",
    "    # Preencher valores vazios com o valor 0\n",
    "    energy_mix_sources.fillna(0, inplace=True)\n",
    "    \n",
    "    # Salvar o arquivo limpo\n",
    "    os.makedirs(os.path.dirname(output_file_path), exist_ok=True)  \n",
    "    energy_mix_sources.to_csv(output_file_path, index=False)\n",
    "    print(f\"Arquivo limpo salvo em: {output_file_path}\")"
   ]
  },
  {
   "cell_type": "markdown",
   "metadata": {},
   "source": [
    "<h4>Limpar base dados World Population</h4>"
   ]
  },
  {
   "cell_type": "code",
   "execution_count": 13,
   "metadata": {},
   "outputs": [
    {
     "name": "stderr",
     "output_type": "stream",
     "text": [
      "C:\\Users\\Pietro\\AppData\\Local\\Temp\\ipykernel_4972\\2277187068.py:9: DtypeWarning: Columns (1) have mixed types. Specify dtype option on import or set low_memory=False.\n",
      "  world_population = pd.read_csv(input_file_path, sep=\",\")\n"
     ]
    },
    {
     "name": "stdout",
     "output_type": "stream",
     "text": [
      "Arquivo limpo salvo em: ./data/data_cleaned/cleaned_un_data_pop_world.csv\n"
     ]
    }
   ],
   "source": [
    "input_file_path = \"./data/un_data_pop_world.csv\"\n",
    "output_file_path = \"./data/data_cleaned/cleaned_un_data_pop_world.csv\"\n",
    "\n",
    "# Verificar se o arquivo de saída já existe\n",
    "if os.path.exists(output_file_path):\n",
    "    print(f\"O arquivo '{output_file_path}' já existe. Nenhuma ação será realizada.\")\n",
    "else:\n",
    "    # Carregar o arquivo de entrada\n",
    "    world_population = pd.read_csv(input_file_path, sep=\",\")\n",
    "    \n",
    "    # Remover a coluna 'Record Type','Reliability','Source Year','Value Footnotes'\n",
    "    world_population  = world_population.drop(columns=['Record Type','Reliability','Source Year','Value Footnotes'])\n",
    "\n",
    "    # Removendo valores nulos\n",
    "    world_population = world_population.dropna(subset=['Value'])\n",
    "\n",
    "    # Filtrar para incluir apenas as linhas que contenha \"Both Sexes\"\n",
    "    world_population = world_population[world_population[\"Sex\"] == \"Both Sexes\"]\n",
    "\n",
    "    # Remover a coluna 'Sex'\n",
    "    world_population = world_population.drop(columns=['Sex'])\n",
    "    \n",
    "    # Salvar o arquivo limpo\n",
    "    os.makedirs(os.path.dirname(output_file_path), exist_ok=True)  \n",
    "    world_population.to_csv(output_file_path, index=False)\n",
    "    print(f\"Arquivo limpo salvo em: {output_file_path}\")"
   ]
  }
 ],
 "metadata": {
  "kernelspec": {
   "display_name": ".venv",
   "language": "python",
   "name": "python3"
  },
  "language_info": {
   "codemirror_mode": {
    "name": "ipython",
    "version": 3
   },
   "file_extension": ".py",
   "mimetype": "text/x-python",
   "name": "python",
   "nbconvert_exporter": "python",
   "pygments_lexer": "ipython3",
   "version": "3.12.3"
  }
 },
 "nbformat": 4,
 "nbformat_minor": 2
}
